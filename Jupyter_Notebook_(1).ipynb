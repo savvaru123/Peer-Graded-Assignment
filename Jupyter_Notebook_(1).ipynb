{
  "cells": [
    {
      "cell_type": "markdown",
      "metadata": {
        "id": "7vGJIkbKI_rk"
      },
      "source": [
        "<center>\n",
        "    <img src=\"https://s3-api.us-geo.objectstorage.softlayer.net/cf-courses-data/CognitiveClass/Logos/organization_logo/organization_logo.png\" width=\"300\" alt=\"cognitiveclass.ai logo\"  />\n",
        "</center>\n"
      ]
    },
    {
      "cell_type": "markdown",
      "metadata": {
        "id": "0Mbjdw-6I_rr"
      },
      "source": [
        "#### Add your code below following the instructions given in the course\n"
      ]
    },
    {
      "cell_type": "markdown",
      "source": [
        "# My Jupyter Notebook on IBM Watson Studio"
      ],
      "metadata": {
        "id": "s9Z1EsyTKl8l"
      }
    },
    {
      "cell_type": "markdown",
      "source": [
        "**AVVARU SRINIVASULU**\n",
        "<br>\n",
        "TEACHER\n"
      ],
      "metadata": {
        "id": "e3Ia2LwdLFWG"
      }
    },
    {
      "cell_type": "markdown",
      "source": [
        "*I am interested in data science because it is a new technology and have many carrer opportunities. Further, it is useful for improving knowledge to teach the students new technologies.*"
      ],
      "metadata": {
        "id": "97yhqaMGL_Bw"
      }
    },
    {
      "cell_type": "markdown",
      "source": [
        "### the following code is to find the result of 1+1."
      ],
      "metadata": {
        "id": "CsVi_d-UM-NG"
      }
    },
    {
      "cell_type": "code",
      "source": [
        "1+1"
      ],
      "metadata": {
        "colab": {
          "base_uri": "https://localhost:8080/"
        },
        "id": "OJd-rhgxNZaf",
        "outputId": "f3f154b1-2231-4207-dbce-3bb68b8e9758"
      },
      "execution_count": 2,
      "outputs": [
        {
          "output_type": "execute_result",
          "data": {
            "text/plain": [
              "2"
            ]
          },
          "metadata": {},
          "execution_count": 2
        }
      ]
    },
    {
      "cell_type": "markdown",
      "source": [
        "\n",
        "\n",
        "1.   List item1\n",
        "2.   List item2\n",
        "\n",
        "\n",
        "\n",
        "*   List item1\n",
        "*   List item2\n",
        "\n",
        "\n",
        "\n",
        "--- 1+1=2 \n",
        "\n",
        "--- 1+2=3\n",
        "\n",
        "<br>\n",
        "⚛\n",
        "\n",
        "[link text](https://colab.research.google.com/drive/16yntkPwT-mht8ASSOOhtF-6OY7fq9AwW#scrollTo=huXjFhSvNj-Y)\n",
        "\n",
        "\n",
        "\n",
        "\n",
        "\n",
        "\n"
      ],
      "metadata": {
        "id": "huXjFhSvNj-Y"
      }
    }
  ],
  "metadata": {
    "kernelspec": {
      "display_name": "Python 3",
      "language": "python",
      "name": "python3"
    },
    "language_info": {
      "codemirror_mode": {
        "name": "ipython",
        "version": 3
      },
      "file_extension": ".py",
      "mimetype": "text/x-python",
      "name": "python",
      "nbconvert_exporter": "python",
      "pygments_lexer": "ipython3",
      "version": "3.7.6"
    },
    "colab": {
      "provenance": []
    }
  },
  "nbformat": 4,
  "nbformat_minor": 0
}